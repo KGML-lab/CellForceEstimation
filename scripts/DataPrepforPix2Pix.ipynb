{
 "cells": [
  {
   "cell_type": "markdown",
   "id": "412328c4-7bc7-4eb5-904d-a08a6f610879",
   "metadata": {},
   "source": [
    "Expects Phase images as input and prepares for pix2pix\n",
    "\n",
    "Takes zip file as input, unzips and stores at PhaseData\n",
    "Extracts phase images, processes in pix2pix format and stores in FluroData"
   ]
  },
  {
   "cell_type": "markdown",
   "id": "a96029eb-2832-42d7-b338-32f89a54c3a7",
   "metadata": {},
   "source": [
    "#input to pix2pix is of the format 1024*2048, with the image resized to 1024*1024and then copied horizontally size by side in a folder named \"test\""
   ]
  },
  {
   "cell_type": "code",
   "execution_count": 1,
   "id": "b9bdf200-f428-4dfe-9dfd-119ec50891e2",
   "metadata": {},
   "outputs": [],
   "source": [
    "%config Completer.use_jedi = False"
   ]
  },
  {
   "cell_type": "code",
   "execution_count": 2,
   "id": "731d2a87-f702-4a6f-ad85-c8f3f4016076",
   "metadata": {},
   "outputs": [],
   "source": [
    "import cv2\n",
    "import os\n",
    "import numpy as np\n",
    "import matplotlib.pyplot as plt\n",
    "from natsort import natsorted"
   ]
  },
  {
   "cell_type": "code",
   "execution_count": 4,
   "id": "883c49fc-97df-417c-8f39-d76665ce9512",
   "metadata": {},
   "outputs": [],
   "source": [
    "# unzip data\n",
    "import zipfile\n",
    "data_dir = \"../Fig1-CNFMSchematic-Series.zip\"\n",
    "phase_data_path = \"PhaseData/\"\n",
    "with zipfile.ZipFile(data_dir, 'r') as zip_ref:\n",
    "    zip_ref.extractall(phase_data_path)"
   ]
  },
  {
   "cell_type": "code",
   "execution_count": 6,
   "id": "e271ca71-c785-4518-a491-3f55292f2a45",
   "metadata": {},
   "outputs": [
    {
     "name": "stdout",
     "output_type": "stream",
     "text": [
      "Cell_Interaction_ex1  Cell_Spreading\n",
      "Cell_Interaction_ex2  Fig1-CNFMSchematic-Series\n"
     ]
    }
   ],
   "source": [
    "!ls $phase_data_path"
   ]
  },
  {
   "cell_type": "code",
   "execution_count": 10,
   "id": "80a931a2-f7b8-42b9-94c2-69e17a3acc30",
   "metadata": {
    "tags": []
   },
   "outputs": [
    {
     "name": "stdout",
     "output_type": "stream",
     "text": [
      "['frame570', 'frame556', 'frame565', 'frame569', 'frame552', 'frame548', 'frame568', 'frame558', 'frame550', 'frame549', 'frame561', 'frame551', 'frame559', 'frame553', 'frame566', 'frame564', 'frame554', 'frame555', 'frame567', 'frame562', 'frame560', 'frame557', 'frame547', 'frame563']\n",
      "frame547\n",
      "547\n",
      "(1040, 1388, 3)\n",
      "(1024, 1024, 3)\n",
      "frame548\n",
      "548\n",
      "(1040, 1388, 3)\n",
      "(1024, 1024, 3)\n",
      "frame549\n",
      "549\n",
      "(1040, 1388, 3)\n",
      "(1024, 1024, 3)\n",
      "frame550\n",
      "550\n",
      "(1040, 1388, 3)\n",
      "(1024, 1024, 3)\n",
      "frame551\n",
      "551\n",
      "(1040, 1388, 3)\n",
      "(1024, 1024, 3)\n",
      "frame552\n",
      "552\n",
      "(1040, 1388, 3)\n",
      "(1024, 1024, 3)\n",
      "frame553\n",
      "553\n",
      "(1040, 1388, 3)\n",
      "(1024, 1024, 3)\n",
      "frame554\n",
      "554\n",
      "(1040, 1388, 3)\n",
      "(1024, 1024, 3)\n",
      "frame555\n",
      "555\n",
      "(1040, 1388, 3)\n",
      "(1024, 1024, 3)\n",
      "frame556\n",
      "556\n",
      "(1040, 1388, 3)\n",
      "(1024, 1024, 3)\n",
      "frame557\n",
      "557\n",
      "(1040, 1388, 3)\n",
      "(1024, 1024, 3)\n",
      "frame558\n",
      "558\n",
      "(1040, 1388, 3)\n",
      "(1024, 1024, 3)\n",
      "frame559\n",
      "559\n",
      "(1040, 1388, 3)\n",
      "(1024, 1024, 3)\n",
      "frame560\n",
      "560\n",
      "(1040, 1388, 3)\n",
      "(1024, 1024, 3)\n",
      "frame561\n",
      "561\n",
      "(1040, 1388, 3)\n",
      "(1024, 1024, 3)\n",
      "frame562\n",
      "562\n",
      "(1040, 1388, 3)\n",
      "(1024, 1024, 3)\n",
      "frame563\n",
      "563\n",
      "(1040, 1388, 3)\n",
      "(1024, 1024, 3)\n",
      "frame564\n",
      "564\n",
      "(1040, 1388, 3)\n",
      "(1024, 1024, 3)\n",
      "frame565\n",
      "565\n",
      "(1040, 1388, 3)\n",
      "(1024, 1024, 3)\n",
      "frame566\n",
      "566\n",
      "(1040, 1388, 3)\n",
      "(1024, 1024, 3)\n",
      "frame567\n",
      "567\n",
      "(1040, 1388, 3)\n",
      "(1024, 1024, 3)\n",
      "frame568\n",
      "568\n",
      "(1040, 1388, 3)\n",
      "(1024, 1024, 3)\n",
      "frame569\n",
      "569\n",
      "(1040, 1388, 3)\n",
      "(1024, 1024, 3)\n",
      "frame570\n",
      "570\n",
      "(1040, 1388, 3)\n",
      "(1024, 1024, 3)\n"
     ]
    }
   ],
   "source": [
    "path = phase_data_path #\"./PhaseData/\"\n",
    "fluro_data_path = \"FluroData/\"\n",
    "dest_path = fluro_data_path #\"./FluroData/\"\n",
    "videos= [\"Fig1-CNFMSchematic-Series\"] #os.listdir(path)\n",
    "for video in videos:\n",
    "    frames = os.listdir(path+video)\n",
    "    os.makedirs(os.path.join(dest_path, video, \"test\"))\n",
    "    print(frames)\n",
    "    for frame in natsorted(frames):\n",
    "        print(frame)\n",
    "        img_name = frame.split(\"frame\")[1]\n",
    "        print(img_name)\n",
    "        img = cv2.imread(os.path.join(path, video, frame, img_name) + \".jpg\")\n",
    "        print(img.shape)\n",
    "        img = cv2.resize(img, (1024,1024))\n",
    "        print(img.shape)\n",
    "        test_img = cv2.hconcat([img, img])\n",
    "        cv2.imwrite(os.path.join(dest_path, video, \"test\", img_name)+\".jpg\", test_img)\n",
    "        #print(test_img.shape)\n",
    "     "
   ]
  },
  {
   "cell_type": "code",
   "execution_count": null,
   "id": "e5f83be9-b838-4067-b11b-c8ff1e47ea89",
   "metadata": {},
   "outputs": [],
   "source": []
  }
 ],
 "metadata": {
  "kernelspec": {
   "display_name": "Python 3",
   "language": "python",
   "name": "python3"
  },
  "language_info": {
   "codemirror_mode": {
    "name": "ipython",
    "version": 3
   },
   "file_extension": ".py",
   "mimetype": "text/x-python",
   "name": "python",
   "nbconvert_exporter": "python",
   "pygments_lexer": "ipython3",
   "version": "3.6.9"
  }
 },
 "nbformat": 4,
 "nbformat_minor": 5
}
