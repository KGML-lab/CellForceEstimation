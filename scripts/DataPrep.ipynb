{
 "cells": [
  {
   "cell_type": "markdown",
   "id": "8df41afd-1842-40fe-93d7-f924b7487285",
   "metadata": {},
   "source": [
    "Expects data in fake fluro format\n",
    "\n",
    "unzips data to FluroData and shifts to Data to process detectiona nd tracking"
   ]
  },
  {
   "cell_type": "code",
   "execution_count": 1,
   "id": "bd3c0049-c385-4233-830a-d000794f2037",
   "metadata": {},
   "outputs": [],
   "source": [
    "%config Completer.use_jedi = False"
   ]
  },
  {
   "cell_type": "code",
   "execution_count": 2,
   "id": "3daed8f6-2fe6-484d-a165-83b409ed74a2",
   "metadata": {},
   "outputs": [],
   "source": [
    "import zipfile\n",
    "import os\n",
    "import shutil\n",
    "import cv2\n",
    "from natsort import natsorted"
   ]
  },
  {
   "cell_type": "markdown",
   "id": "6cbb2187-8920-4c4a-b773-9ab2e2e35413",
   "metadata": {},
   "source": [
    "Data format expectation:\n",
    "- New Data Folder\n",
    "   - Cell Dir\n",
    "       - Frame dir\n",
    "           - fake_xx_corrected_image.jpg -> frame image - fake fluoroscent\n",
    "       - Frame dir\n",
    "       - Frame dir\n",
    "   - Cell Dir\n",
    "   - Cell Dir\n",
    "    "
   ]
  },
  {
   "cell_type": "markdown",
   "id": "1f80a814-070b-4202-a1f1-d3e3657c477f",
   "metadata": {},
   "source": [
    "## If starting with fake fluro in the above format"
   ]
  },
  {
   "cell_type": "code",
   "execution_count": 3,
   "id": "b09fc378-a68a-495a-8f1f-5185e4bce9af",
   "metadata": {},
   "outputs": [],
   "source": [
    "with zipfile.ZipFile(\"./Cell_Division.zip\", 'r') as zip_ref:\n",
    "    zip_ref.extractall(\"./Data/\")"
   ]
  },
  {
   "cell_type": "code",
   "execution_count": 5,
   "id": "a7871822-4bc8-4bc9-87dc-7502bf55159f",
   "metadata": {
    "collapsed": true,
    "jupyter": {
     "outputs_hidden": true
    },
    "tags": []
   },
   "outputs": [
    {
     "name": "stdout",
     "output_type": "stream",
     "text": [
      "./Data/Cell_Division-.ipynb_checkpoints/images/\n",
      "./Data/Cell_Division-Cell-1/images/\n",
      "frame01\n",
      "frame02\n",
      "frame03\n",
      "frame04\n",
      "frame05\n",
      "frame06\n",
      "frame07\n",
      "frame08\n",
      "frame09\n",
      "frame10\n",
      "frame11\n",
      "frame12\n",
      "frame13\n",
      "frame14\n",
      "frame15\n",
      "frame16\n",
      "frame17\n",
      "frame18\n",
      "frame19\n",
      "frame20\n",
      "frame21\n",
      "frame22\n",
      "frame23\n",
      "frame24\n",
      "frame25\n",
      "frame26\n",
      "frame27\n",
      "frame28\n",
      "frame29\n",
      "frame30\n",
      "frame31\n",
      "frame32\n",
      "frame33\n",
      "frame34\n",
      "frame35\n",
      "frame36\n",
      "frame37\n",
      "frame38\n",
      "frame39\n",
      "frame40\n",
      "frame41\n",
      "frame42\n",
      "frame43\n",
      "frame44\n",
      "frame45\n",
      "frame46\n",
      "frame47\n",
      "frame48\n",
      "frame49\n",
      "frame50\n",
      "frame51\n",
      "frame52\n",
      "frame53\n",
      "frame54\n",
      "frame55\n",
      "frame56\n",
      "frame57\n",
      "frame58\n",
      "frame59\n",
      "frame60\n",
      "frame61\n",
      "frame62\n",
      "frame63\n",
      "frame64\n",
      "frame65\n",
      "frame66\n",
      "frame67\n",
      "frame68\n",
      "frame69\n"
     ]
    }
   ],
   "source": [
    "data_path = \"FluroData/\"\n",
    "dest_path = \"./Data/\"\n",
    "video_name_list = [\"Cell_Interaction_ex1\", \"Cell_Interaction_ex2\"]\n",
    "for fig in natsorted(os.listdir(data_path)):\n",
    "    if fig in video_name_list:\n",
    "        for cell_dir in natsorted(os.listdir(os.path.join(data_path,fig))):\n",
    "            os.makedirs(dest_path + f\"{fig}-{cell_dir}/images\", exist_ok=True)\n",
    "            dest_cell_dir = dest_path + f\"{fig}-{cell_dir}/images/\"\n",
    "            print(dest_cell_dir)\n",
    "            for frame_dir in natsorted(os.listdir(os.path.join(data_path,fig,cell_dir))):\n",
    "                print(frame_dir)\n",
    "                frame_num = frame_dir.split(\"frame\")[1]\n",
    "                image = f\"fake_{frame_num}_corrected_image.jpg\"\n",
    "                dest_image = f\"{frame_num}.jpg\"\n",
    "                shutil.copy(os.path.join(\"Data/\",fig,cell_dir,frame_dir, image), dest_cell_dir  +dest_image )"
   ]
  },
  {
   "cell_type": "markdown",
   "id": "d8912359-4f18-4b1c-8a52-526a7c753c0b",
   "metadata": {},
   "source": [
    "## if startig from phase and have generated fake fluro form pix2pix "
   ]
  },
  {
   "cell_type": "markdown",
   "id": "c79d0b6b-1235-45d6-9e72-e70b4241d24d",
   "metadata": {},
   "source": [
    "- FluroData\n",
    " - Cell video\n",
    "  - FakeFluro\n",
    "       - 01.png\n",
    "       - 02.png \n",
    "  - test\n",
    "       - 01.jpg\n",
    "       - 02.jpg"
   ]
  },
  {
   "cell_type": "code",
   "execution_count": null,
   "id": "d9fcf1e8-9892-493b-a264-bd848c3782ee",
   "metadata": {
    "tags": []
   },
   "outputs": [],
   "source": [
    "video_name_list = [\"Fig1-CNFMSchematic-Series\"]\n",
    "data_path = \"FluroData/\" #\"FluroData/\"\n",
    "dest_path = \"Data/\" #\"./Data/\"\n",
    "master_folder_name = \"Data-April20\"\n",
    "os.makedirs(dest_path+master_folder_name)\n",
    "dest_path = dest_path + master_folder_name +\"/\"\n",
    "\n",
    "for fig in natsorted(os.listdir(data_path)):\n",
    "    if fig in video_name_list:\n",
    "        os.makedirs(dest_path + f\"{fig}/images\", exist_ok=True)\n",
    "        os.makedirs(dest_path + f\"{fig}/phase-images\", exist_ok=True)\n",
    "        dest_cell_dir = dest_path + f\"{fig}/images/\"\n",
    "        #print(dest_cell_dir)\n",
    "        for img_dir in os.listdir(os.path.join(data_path,fig)):\n",
    "            if \"Fake\" in img_dir:\n",
    "                dest_cell_dir = dest_path + f\"{fig}/images/\"\n",
    "                print(dest_cell_dir)\n",
    "            else:\n",
    "                dest_cell_dir = dest_path + f\"{fig}/phase-images/\"\n",
    "                print(dest_cell_dir)\n",
    "            for img in natsorted(os.listdir(os.path.join(data_path,fig, img_dir))):\n",
    "                if \".ipynb_checkpoints\" not in img:\n",
    "                    #print(img)\n",
    "                    dest_img = img.split(\".\")[0] + \".jpg\"\n",
    "                    #print(dest_img)\n",
    "                    # img = cv2.imread(os.path.join(data_path,fig,img_dir,img))\n",
    "                    # dim = img.shape[1]\n",
    "                    # #print(img.shape)\n",
    "                    # img = img[:, 0:1024]\n",
    "                    # print(img.shape)\n",
    "                    shutil.copy(os.path.join(data_path,fig,img_dir,img), dest_cell_dir + dest_img  )\n",
    "                "
   ]
  },
  {
   "cell_type": "code",
   "execution_count": null,
   "id": "c1180355-f1bb-470c-b759-d753085f3af6",
   "metadata": {},
   "outputs": [],
   "source": []
  }
 ],
 "metadata": {
  "kernelspec": {
   "display_name": "Python 3",
   "language": "python",
   "name": "python3"
  },
  "language_info": {
   "codemirror_mode": {
    "name": "ipython",
    "version": 3
   },
   "file_extension": ".py",
   "mimetype": "text/x-python",
   "name": "python",
   "nbconvert_exporter": "python",
   "pygments_lexer": "ipython3",
   "version": "3.6.9"
  }
 },
 "nbformat": 4,
 "nbformat_minor": 5
}
